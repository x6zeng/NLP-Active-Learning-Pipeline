{
 "cells": [
  {
   "cell_type": "code",
   "execution_count": 21,
   "id": "3e04c5c9",
   "metadata": {},
   "outputs": [],
   "source": [
    "import numpy as np\n",
    "import pandas as pd\n",
    "import math\n",
    "import re\n",
    "# import emoji\n",
    "from nltk.corpus import stopwords\n",
    "import seaborn as sns\n",
    "# from nltk.stem import WordNetLemmatizer, PorterStemmer\n",
    "# from nltk.tokenize import word_tokenize\n",
    "import unidecode\n",
    "from sklearn.utils import resample\n",
    "import warnings\n",
    "from sklearn.model_selection import train_test_split\n",
    "from sklearn.metrics import plot_confusion_matrix, f1_score, accuracy_score, precision_score, recall_score\n",
    "from sklearn.compose import ColumnTransformer\n",
    "from sklearn.feature_extraction.text import TfidfVectorizer, CountVectorizer\n",
    "from sklearn.naive_bayes import BernoulliNB\n",
    "from sklearn.multiclass import OneVsRestClassifier\n",
    "from sklearn.pipeline import Pipeline\n",
    "import matplotlib.pyplot as plt\n",
    "warnings.filterwarnings('ignore')"
   ]
  },
  {
   "cell_type": "code",
   "execution_count": 10,
   "id": "4226012a",
   "metadata": {},
   "outputs": [],
   "source": [
    "df_2022 = pd.read_csv('../data/tweet_data_2022.csv')\n",
    "df_2023 = pd.read_csv('../data/tweet_data_2023.csv')"
   ]
  },
  {
   "cell_type": "markdown",
   "id": "bcbef731",
   "metadata": {},
   "source": [
    "### Three types of Sampling Strategies\n",
    "- Committee-based Strategies\n",
    "    -  Build several models and use the models’ prediction to determine the most informative data. The data is considered as most informative if there is maximum disagreement in predictions from the models. The disagreement can be measured by entropy or KL-Divergence\n",
    "        - Query by Committee (QBC)\n",
    "        - Entropy-based Query by Bagging (EQB)\n",
    "        - Adaptive Maximum Disagreement (AMD)\n",
    "\n",
    "\n",
    "- Large margin-based Strategies\n",
    "    - Specifically for margin-based classifiers such as SVM. The distance to the separating hyperplane can be viewed as a good metric to measure the model’s confidence or certainty on unlabeled data samples. In SVM, the support vectors which define the decision boundary would be the most informative data samples.\n",
    "        - Margin Sampling (MS)\n",
    "        - Multiclass Level Uncertainty (MCLU)\n",
    "        - Margin Sampling-closest Support Vectors (MS-cSV)\n",
    "        \n",
    "- Posterior probability-based Strategies\n",
    "    - Based on the estimation of class membership probabilities. The posterior probability distribution is used to determine whether the unlabeled data sample should be queried for label or not. This strategy can be used with any type of model which has the ability to predict output probabilities for class membership. The posterior probability distribution gives an idea about the model’s confidence and certainty in the assignment of a particular class to the data sample.\n",
    "        - Least Confidence (LC)\n",
    "        - Best-versus-Second-Best (BvSB) or Smallest Margin\n",
    "        - Entropy"
   ]
  },
  {
   "cell_type": "markdown",
   "id": "8b7aa9af",
   "metadata": {},
   "source": [
    "- **Yunyi** will explore **Query by Committee (QBC)** and **Entropy-based Query by Bagging (EQB)**\n",
    "\n",
    "\n",
    "- **Tony** will explore Posterior probability-based Startegies including **least confidence** and **Entropy**"
   ]
  },
  {
   "cell_type": "markdown",
   "id": "646d145c",
   "metadata": {},
   "source": [
    "From the previous quarter, the best model for relevance prediction is **Naive Bayes** and the best model for sentiment prediction is **Random Forest**. Because neither Naive Bayes nor Random Forest belongs to margin-based models, we will not explore large margin-based startegies in the project. "
   ]
  },
  {
   "cell_type": "markdown",
   "id": "675d951c",
   "metadata": {},
   "source": [
    "### Active Learning Pipeline Procedures"
   ]
  },
  {
   "cell_type": "markdown",
   "id": "a83cd1d0",
   "metadata": {},
   "source": [
    "**1. Balance and partition the dataset**\n",
    "- Shuffle the dataset and separate the data based on the label (Group 1 vs. Group 2 or 3)\n",
    "- For each group of data:\n",
    "    - Seed: Used for training the model, 60% of the dataset\n",
    "    - Unlabeled: Used for active learning, 20% of the dataset\n",
    "    - Test: Used for testing the changes of model result before and after the active learning, 20% of the dataset\n",
    "- Combine the groups of data\n",
    "\n",
    "**2. Train the model using Seed data and cross-validation**\n",
    "- Train the Bernoulli Naive Bayes Model using the Seed data\n",
    "- Apply cross-validation to find the most consistant model parameters\n",
    "\n",
    "**3. Choose unlabeled instances**\n",
    "- Using Pool-based sampling, choose the round of iterations and the number of instances to add to the training set\n",
    "- For each iteration, \n",
    "    - select X instances from the unlabeled data using the sampling strategies\n",
    "    - add the instances to the training set\n",
    "    \n",
    "**4. Stopping criteria**\n",
    "- \\# of instances queried\n",
    "- \\# of iterations of steps 2 and 3\n",
    "- After the performance doesn't imporve significantly\n",
    "\n",
    "**5. Compare the model performances on Test set**\n",
    "- Report the accuracy of the model that uses only Seed data as the training set\n",
    "- Report the accuracy of the model after using active learning"
   ]
  },
  {
   "cell_type": "markdown",
   "id": "3983ebe7",
   "metadata": {},
   "source": [
    "### Data Preprocessing"
   ]
  },
  {
   "cell_type": "code",
   "execution_count": 11,
   "id": "8c79b695",
   "metadata": {},
   "outputs": [],
   "source": [
    "def standardize_bucket(bucket):\n",
    "    if ((bucket == '1.0') | (bucket == '1')):\n",
    "        return '1'\n",
    "    elif ((bucket == '2') | (bucket == '3') | (bucket == '2.0') | (bucket == '3.0')):\n",
    "        return '2 or 3'\n",
    "    else:\n",
    "        return bucket"
   ]
  },
  {
   "cell_type": "code",
   "execution_count": 12,
   "id": "8ff3048a",
   "metadata": {},
   "outputs": [],
   "source": [
    "def clean_text(text):\n",
    "    if type(text) == np.float:\n",
    "        return \"\"\n",
    "    temp = text.lower() # to lower case\n",
    "    temp = re.sub(\"'\", \"\", temp) # to avoid removing contractions in english\n",
    "    temp = re.sub(\"@[A-Za-z0-9_]+\",\"\", temp) # remove @s\n",
    "    temp = re.sub(\"#[A-Za-z0-9_]+\",\"\", temp) # remove hashtags\n",
    "    temp = re.sub(r'http\\S+', '', temp) # remove links\n",
    "    temp = re.sub(r\"www.\\S+\", \"\", temp) # remove links\n",
    "    temp = re.sub(r'\\n|[^a-zA-Z]', ' ', temp) # remove punctuation\n",
    "    temp = temp.replace(\"\\n\", \" \").split()\n",
    "    temp = [w for w in temp if not w in stopwords_] # remove stopwords\n",
    "    temp = [w for w in temp if not w.isdigit()] # remove numbers\n",
    "    temp = [unidecode.unidecode(w) for w in temp] # turn non-enlish letters to english letters\n",
    "    temp = \" \".join(word for word in temp)\n",
    "    return temp"
   ]
  },
  {
   "cell_type": "code",
   "execution_count": 13,
   "id": "e2a75c31",
   "metadata": {},
   "outputs": [],
   "source": [
    "original_stopwords = stopwords.words('english')\n",
    "additional_stopwords = ['none']\n",
    "original_stopwords.extend(additional_stopwords)\n",
    "stopwords_ = set(original_stopwords)\n",
    "\n",
    "#Selects only the tweets about China\n",
    "df = df_2022[df_2022['country']=='China']\n",
    "df = df[['text', 'id', 'Bucket', 'SentimentScore']]\n",
    "#Shuffle the data\n",
    "df = df.sample(frac=1, replace=False, random_state=1) \n",
    "df.reset_index(drop=True, inplace=True)\n",
    "#Standardized the bucket label\n",
    "df['Bucket'] = df['Bucket'].apply(standardize_bucket)\n",
    "#Remove tweets that are in both buckets\n",
    "df_bucket_count = pd.DataFrame(df.groupby('id')['Bucket'].nunique())\n",
    "df_bucket_count.reset_index(inplace=True)\n",
    "df_bucket_count.columns = ['tweet_id', 'bucket_num']\n",
    "df = df.merge(df_bucket_count, left_on='id', right_on='tweet_id')\n",
    "df = df[df['bucket_num'] == 1]\n",
    "#Remove tweets without a bucket (null)\n",
    "df = df[(df['Bucket'] == '1') | (df['Bucket'] == '2 or 3')]\n",
    "#Remove duplicates\n",
    "df = df.drop_duplicates(subset=['id']).reset_index(drop=True)\n",
    "df = df[['text', 'Bucket']]\n",
    "df[\"text_cleaned\"] = [clean_text(t) for t in df[\"text\"]]"
   ]
  },
  {
   "cell_type": "markdown",
   "id": "f8e958f3",
   "metadata": {},
   "source": [
    "### 1. Balance and Partition the dataset (Group 1 vs. Group 2 or 3; Seed, Unlabeled, Test)"
   ]
  },
  {
   "cell_type": "code",
   "execution_count": 14,
   "id": "b463a47f",
   "metadata": {},
   "outputs": [],
   "source": [
    "df_1 = df[df.Bucket=='1']\n",
    "df_2_3 = df[df.Bucket=='2 or 3']\n",
    "sample_size = min(df[df.Bucket=='1'].shape[0], df[df.Bucket=='2 or 3'].shape[0])"
   ]
  },
  {
   "cell_type": "code",
   "execution_count": 15,
   "id": "3904a908",
   "metadata": {},
   "outputs": [],
   "source": [
    "def partition_data(df):\n",
    "    #partiton\n",
    "    df_rows = df.shape[0]\n",
    "    seed_num = math.floor(df_rows * 0.8)\n",
    "    seed = df[:seed_num]\n",
    "    unlabelled_num = seed_num + (math.floor(df_rows * 0.1))\n",
    "    unlabelled = df[seed_num:unlabelled_num]\n",
    "    test = df[unlabelled_num:]\n",
    "    return seed, unlabelled, test"
   ]
  },
  {
   "cell_type": "code",
   "execution_count": 16,
   "id": "41924bd8",
   "metadata": {},
   "outputs": [
    {
     "name": "stdout",
     "output_type": "stream",
     "text": [
      "(8117, 3)\n",
      "(1014, 3)\n",
      "(1016, 3)\n"
     ]
    }
   ],
   "source": [
    "seed_1, unlabeled_1, test_1 = partition_data(df_1)\n",
    "seed_2_3, unlabeled_2_3, test_2_3 = partition_data(df_2_3)\n",
    "seed = pd.concat([seed_1, seed_2_3])\n",
    "unlabeled = pd.concat([unlabeled_1, unlabeled_2_3])\n",
    "test = pd.concat([test_1, test_2_3])\n",
    "print(seed.shape)\n",
    "print(unlabeled.shape)\n",
    "print(test.shape)"
   ]
  },
  {
   "cell_type": "code",
   "execution_count": 17,
   "id": "851e8f90",
   "metadata": {},
   "outputs": [],
   "source": [
    "seed_1 = seed[seed.Bucket=='1']\n",
    "seed_2_3 = seed[seed.Bucket=='2 or 3']\n",
    "sample_size = min(seed_1.shape[0], seed_2_3.shape[0])\n",
    "seed_1_b = resample(seed_1, replace=False, n_samples=sample_size, random_state=123)\n",
    "seed_2_3_b = resample(seed_2_3, replace=False, n_samples=sample_size, random_state=123)\n",
    "seed = pd.concat([seed_1_b, seed_2_3_b])"
   ]
  },
  {
   "cell_type": "code",
   "execution_count": 18,
   "id": "c2e964eb",
   "metadata": {},
   "outputs": [
    {
     "data": {
      "text/plain": [
       "1         1649\n",
       "2 or 3    1649\n",
       "Name: Bucket, dtype: int64"
      ]
     },
     "execution_count": 18,
     "metadata": {},
     "output_type": "execute_result"
    }
   ],
   "source": [
    "seed.Bucket.value_counts()"
   ]
  },
  {
   "cell_type": "markdown",
   "id": "d0e41323",
   "metadata": {},
   "source": [
    "### 2. Train the model using Seed data and cross-validation"
   ]
  },
  {
   "cell_type": "code",
   "execution_count": 19,
   "id": "4466784f",
   "metadata": {},
   "outputs": [
    {
     "name": "stdout",
     "output_type": "stream",
     "text": [
      "(2638, 1)\n",
      "(660, 1)\n",
      "(2638, 1)\n",
      "(660, 1)\n"
     ]
    }
   ],
   "source": [
    "categories = ['Bucket']\n",
    "train, test = train_test_split(seed, random_state=42, test_size=0.2, shuffle=True)\n",
    "X_train, X_test, Y_train, Y_test = train[['text_cleaned']], test[['text_cleaned']], train[['Bucket']], test[['Bucket']]\n",
    "print(X_train.shape)\n",
    "print(X_test.shape)\n",
    "print(Y_train.shape)\n",
    "print(Y_test.shape)"
   ]
  },
  {
   "cell_type": "code",
   "execution_count": 23,
   "id": "7c3a9458",
   "metadata": {},
   "outputs": [],
   "source": [
    "random_state_value = 2\n",
    "round_number = 4\n",
    "\n",
    "#Wrap in ColumnTransformer\n",
    "preprocessor = ColumnTransformer(\n",
    "    transformers=[\n",
    "        (\"tf\", CountVectorizer(stop_words=stopwords_), 'text_cleaned'),\n",
    "        (\"tfidf\", TfidfVectorizer(stop_words=stopwords_), 'text_cleaned')]\n",
    ")"
   ]
  },
  {
   "cell_type": "code",
   "execution_count": 24,
   "id": "7178ac80",
   "metadata": {},
   "outputs": [],
   "source": [
    "#Define the model\n",
    "model = BernoulliNB(fit_prior=True, class_prior=None)\n",
    "model_name = 'Bernoulli Naive Bayes'"
   ]
  },
  {
   "cell_type": "code",
   "execution_count": 25,
   "id": "ddf6bdea",
   "metadata": {},
   "outputs": [],
   "source": [
    "#Build the pipeline\n",
    "pipeline = Pipeline([\n",
    "            ('preprocessor', preprocessor),\n",
    "            ('clf', OneVsRestClassifier(model, n_jobs=1)),\n",
    "        ])"
   ]
  },
  {
   "cell_type": "code",
   "execution_count": 32,
   "id": "7965d243",
   "metadata": {},
   "outputs": [
    {
     "name": "stdout",
     "output_type": "stream",
     "text": [
      "The model name is Bernoulli Naive Bayes.\n",
      "Test accuracy is 0.7864\n"
     ]
    }
   ],
   "source": [
    "#Train the model\n",
    "pipeline.fit(X_train, Y_train)\n",
    "\n",
    "# compute the testing accuracy\n",
    "prediction = pipeline.predict(pd.DataFrame(X_test))\n",
    "print('The model name is ' + model_name + '.')\n",
    "print('Test accuracy is {}'.format(round(accuracy_score(Y_test, prediction), round_number)))"
   ]
  },
  {
   "cell_type": "code",
   "execution_count": 33,
   "id": "5bf8daf6",
   "metadata": {},
   "outputs": [
    {
     "name": "stdout",
     "output_type": "stream",
     "text": [
      "F1 score is 0.7867\n",
      "Precision score is 0.8553\n",
      "Recall score is 0.7283\n"
     ]
    },
    {
     "data": {
      "image/png": "[encoded data removed]",
      "text/plain": [
       "<Figure size 432x288 with 2 Axes>"
      ]
     },
     "metadata": {
      "needs_background": "light"
     },
     "output_type": "display_data"
    },
    {
     "data": {
      "image/png": "[encoded data removed]",
      "text/plain": [
       "<Figure size 432x288 with 2 Axes>"
      ]
     },
     "metadata": {
      "needs_background": "light"
     },
     "output_type": "display_data"
    }
   ],
   "source": [
    "# compute the f1 score\n",
    "f1 = round(f1_score(np.array(Y_test), prediction, pos_label='1'), round_number)\n",
    "print('F1 score is {}'.format(f1))\n",
    "# compute the precision score\n",
    "precision = round(precision_score(np.array(Y_test), prediction, pos_label='1', average='binary'), round_number)\n",
    "print('Precision score is {}'.format(precision))\n",
    "# compute the precision score\n",
    "recall = round(recall_score(np.array(Y_test), prediction, pos_label='1', average='binary'), round_number)\n",
    "print('Recall score is {}'.format(recall))\n",
    "plot_confusion_matrix(pipeline, X_test, Y_test)\n",
    "plt.show()\n",
    "plot_confusion_matrix(pipeline, X_test, Y_test, normalize='true')\n",
    "plt.show()"
   ]
  },
  {
   "cell_type": "markdown",
   "id": "2b4bdbec",
   "metadata": {},
   "source": [
    "## 3. Choose unlabeled instances"
   ]
  },
  {
   "cell_type": "markdown",
   "id": "45855cf7",
   "metadata": {},
   "source": [
    "#### Least Confidence"
   ]
  },
  {
   "cell_type": "markdown",
   "id": "c0e05cbb",
   "metadata": {},
   "source": [
    "- Select the unlabeled data samples for which the model is least confident in prediction or class assignment. \n",
    "- These data samples improve the model’s discriminative ability. 50%-50% > 90%-10%\n"
   ]
  },
  {
   "cell_type": "code",
   "execution_count": 117,
   "id": "4cf9813b",
   "metadata": {},
   "outputs": [],
   "source": [
    "#number of iterations\n",
    "iteration = 20\n",
    "\n",
    "#number of instances to add to the seed data in one iteration\n",
    "instances = 10\n",
    "\n",
    "unlabeled_x = unlabeled[['text_cleaned']]\n",
    "unlabeled_y = unlabeled[['Bucket']]\n",
    "prob = pipeline.predict_proba(unlabeled_x)\n",
    "unlabeled['prob'] = list(prob)\n",
    "unlabeled['lc'] = np.abs(np.diff(prob)).flatten()"
   ]
  },
  {
   "cell_type": "code",
   "execution_count": 130,
   "id": "59d9fe08",
   "metadata": {},
   "outputs": [],
   "source": [
    "unlabeled.sort_values(by=['lc'], ascending=True, inplace=True)"
   ]
  },
  {
   "cell_type": "code",
   "execution_count": 133,
   "id": "a1c0c105",
   "metadata": {},
   "outputs": [
    {
     "data": {
      "text/html": [
       "<div>\n",
       "<style scoped>\n",
       "    .dataframe tbody tr th:only-of-type {\n",
       "        vertical-align: middle;\n",
       "    }\n",
       "\n",
       "    .dataframe tbody tr th {\n",
       "        vertical-align: top;\n",
       "    }\n",
       "\n",
       "    .dataframe thead th {\n",
       "        text-align: right;\n",
       "    }\n",
       "</style>\n",
       "<table border=\"1\" class=\"dataframe\">\n",
       "  <thead>\n",
       "    <tr style=\"text-align: right;\">\n",
       "      <th></th>\n",
       "      <th>text</th>\n",
       "      <th>Bucket</th>\n",
       "      <th>text_cleaned</th>\n",
       "      <th>lc</th>\n",
       "      <th>prob</th>\n",
       "    </tr>\n",
       "  </thead>\n",
       "  <tbody>\n",
       "    <tr>\n",
       "      <th>8592</th>\n",
       "      <td>Trump has accomplished more on N Korea to date...</td>\n",
       "      <td>1</td>\n",
       "      <td>trump accomplished n korea date us president c...</td>\n",
       "      <td>0.025438</td>\n",
       "      <td>[0.5127190366757652, 0.4872809633242348]</td>\n",
       "    </tr>\n",
       "    <tr>\n",
       "      <th>8195</th>\n",
       "      <td>Is the Biden administration denying the realit...</td>\n",
       "      <td>1</td>\n",
       "      <td>biden administration denying reality china ong...</td>\n",
       "      <td>0.030828</td>\n",
       "      <td>[0.48458600369673477, 0.5154139963032652]</td>\n",
       "    </tr>\n",
       "    <tr>\n",
       "      <th>8166</th>\n",
       "      <td>I join my @China_TaskForce colleagues in comme...</td>\n",
       "      <td>2 or 3</td>\n",
       "      <td>join colleagues commending biden formation dep...</td>\n",
       "      <td>0.061375</td>\n",
       "      <td>[0.4693126856782418, 0.5306873143217582]</td>\n",
       "    </tr>\n",
       "    <tr>\n",
       "      <th>8679</th>\n",
       "      <td>Chinese authorities are hunting down protester...</td>\n",
       "      <td>1</td>\n",
       "      <td>chinese authorities hunting protesters inner m...</td>\n",
       "      <td>0.065898</td>\n",
       "      <td>[0.5329490501536329, 0.4670509498463671]</td>\n",
       "    </tr>\n",
       "    <tr>\n",
       "      <th>8664</th>\n",
       "      <td>I agree with Attorney General Barr:\\n\\nThe mos...</td>\n",
       "      <td>1</td>\n",
       "      <td>agree attorney general barr aggressive threat ...</td>\n",
       "      <td>0.077333</td>\n",
       "      <td>[0.5386662690176907, 0.4613337309823093]</td>\n",
       "    </tr>\n",
       "    <tr>\n",
       "      <th>9071</th>\n",
       "      <td>If we fail to stand up for steel jobs today, C...</td>\n",
       "      <td>1</td>\n",
       "      <td>fail stand steel jobs today china come jobs su...</td>\n",
       "      <td>0.104992</td>\n",
       "      <td>[0.552496048456621, 0.44750395154337896]</td>\n",
       "    </tr>\n",
       "    <tr>\n",
       "      <th>8668</th>\n",
       "      <td>TODAY: Join a group of esteemed panelists and ...</td>\n",
       "      <td>1</td>\n",
       "      <td>today join group esteemed panelists today pm d...</td>\n",
       "      <td>0.105665</td>\n",
       "      <td>[0.4471675319662072, 0.5528324680337928]</td>\n",
       "    </tr>\n",
       "    <tr>\n",
       "      <th>8627</th>\n",
       "      <td>I called upon @SecPompeo to answer questions o...</td>\n",
       "      <td>1</td>\n",
       "      <td>called upon answer questions u efforts address...</td>\n",
       "      <td>0.111915</td>\n",
       "      <td>[0.5559575150394708, 0.4440424849605292]</td>\n",
       "    </tr>\n",
       "    <tr>\n",
       "      <th>8540</th>\n",
       "      <td>.@SenatorCarper and I learned that schools in ...</td>\n",
       "      <td>1</td>\n",
       "      <td>learned schools united states kindergarten col...</td>\n",
       "      <td>0.112690</td>\n",
       "      <td>[0.5563450534729565, 0.4436549465270435]</td>\n",
       "    </tr>\n",
       "    <tr>\n",
       "      <th>8530</th>\n",
       "      <td>Why has @SpeakerPelosi done nothing about the ...</td>\n",
       "      <td>1</td>\n",
       "      <td>done nothing propaganda litters halls congress...</td>\n",
       "      <td>0.119664</td>\n",
       "      <td>[0.4401680463887535, 0.5598319536112465]</td>\n",
       "    </tr>\n",
       "  </tbody>\n",
       "</table>\n",
       "</div>"
      ],
      "text/plain": [
       "                                                   text  Bucket  \\\n",
       "8592  Trump has accomplished more on N Korea to date...       1   \n",
       "8195  Is the Biden administration denying the realit...       1   \n",
       "8166  I join my @China_TaskForce colleagues in comme...  2 or 3   \n",
       "8679  Chinese authorities are hunting down protester...       1   \n",
       "8664  I agree with Attorney General Barr:\\n\\nThe mos...       1   \n",
       "9071  If we fail to stand up for steel jobs today, C...       1   \n",
       "8668  TODAY: Join a group of esteemed panelists and ...       1   \n",
       "8627  I called upon @SecPompeo to answer questions o...       1   \n",
       "8540  .@SenatorCarper and I learned that schools in ...       1   \n",
       "8530  Why has @SpeakerPelosi done nothing about the ...       1   \n",
       "\n",
       "                                           text_cleaned        lc  \\\n",
       "8592  trump accomplished n korea date us president c...  0.025438   \n",
       "8195  biden administration denying reality china ong...  0.030828   \n",
       "8166  join colleagues commending biden formation dep...  0.061375   \n",
       "8679  chinese authorities hunting protesters inner m...  0.065898   \n",
       "8664  agree attorney general barr aggressive threat ...  0.077333   \n",
       "9071  fail stand steel jobs today china come jobs su...  0.104992   \n",
       "8668  today join group esteemed panelists today pm d...  0.105665   \n",
       "8627  called upon answer questions u efforts address...  0.111915   \n",
       "8540  learned schools united states kindergarten col...  0.112690   \n",
       "8530  done nothing propaganda litters halls congress...  0.119664   \n",
       "\n",
       "                                           prob  \n",
       "8592   [0.5127190366757652, 0.4872809633242348]  \n",
       "8195  [0.48458600369673477, 0.5154139963032652]  \n",
       "8166   [0.4693126856782418, 0.5306873143217582]  \n",
       "8679   [0.5329490501536329, 0.4670509498463671]  \n",
       "8664   [0.5386662690176907, 0.4613337309823093]  \n",
       "9071   [0.552496048456621, 0.44750395154337896]  \n",
       "8668   [0.4471675319662072, 0.5528324680337928]  \n",
       "8627   [0.5559575150394708, 0.4440424849605292]  \n",
       "8540   [0.5563450534729565, 0.4436549465270435]  \n",
       "8530   [0.4401680463887535, 0.5598319536112465]  "
      ]
     },
     "execution_count": 133,
     "metadata": {},
     "output_type": "execute_result"
    }
   ],
   "source": [
    "\n",
    "info_data = unlabeled.iloc[:instances]\n",
    "unlabeled = unlabeled.iloc[instances:]"
   ]
  },
  {
   "cell_type": "code",
   "execution_count": 129,
   "id": "93733081",
   "metadata": {},
   "outputs": [
    {
     "data": {
      "text/plain": [
       "<AxesSubplot:xlabel='lc', ylabel='Density'>"
      ]
     },
     "execution_count": 129,
     "metadata": {},
     "output_type": "execute_result"
    },
    {
     "data": {
      "image/png": "[encoded data removed]",
      "text/plain": [
       "<Figure size 432x288 with 1 Axes>"
      ]
     },
     "metadata": {
      "needs_background": "light"
     },
     "output_type": "display_data"
    }
   ],
   "source": [
    "sns.distplot(unlabeled['lc'], hist=True, kde=True, \n",
    "             bins=int(20), color = 'darkblue', \n",
    "             hist_kws={'edgecolor':'black'},\n",
    "             kde_kws={'linewidth': 4})"
   ]
  },
  {
   "cell_type": "code",
   "execution_count": null,
   "id": "3ca10fdc",
   "metadata": {},
   "outputs": [],
   "source": []
  },
  {
   "cell_type": "code",
   "execution_count": null,
   "id": "7ab595b1",
   "metadata": {},
   "outputs": [],
   "source": []
  },
  {
   "cell_type": "code",
   "execution_count": 87,
   "id": "b5af7906",
   "metadata": {},
   "outputs": [
    {
     "data": {
      "text/html": [
       "<div>\n",
       "<style scoped>\n",
       "    .dataframe tbody tr th:only-of-type {\n",
       "        vertical-align: middle;\n",
       "    }\n",
       "\n",
       "    .dataframe tbody tr th {\n",
       "        vertical-align: top;\n",
       "    }\n",
       "\n",
       "    .dataframe thead th {\n",
       "        text-align: right;\n",
       "    }\n",
       "</style>\n",
       "<table border=\"1\" class=\"dataframe\">\n",
       "  <thead>\n",
       "    <tr style=\"text-align: right;\">\n",
       "      <th></th>\n",
       "      <th>text</th>\n",
       "      <th>Bucket</th>\n",
       "      <th>text_cleaned</th>\n",
       "      <th>lc</th>\n",
       "      <th>prob</th>\n",
       "    </tr>\n",
       "  </thead>\n",
       "  <tbody>\n",
       "    <tr>\n",
       "      <th>8592</th>\n",
       "      <td>Trump has accomplished more on N Korea to date...</td>\n",
       "      <td>1</td>\n",
       "      <td>trump accomplished n korea date us president c...</td>\n",
       "      <td>0.025438</td>\n",
       "      <td>NaN</td>\n",
       "    </tr>\n",
       "    <tr>\n",
       "      <th>8195</th>\n",
       "      <td>Is the Biden administration denying the realit...</td>\n",
       "      <td>1</td>\n",
       "      <td>biden administration denying reality china ong...</td>\n",
       "      <td>0.030828</td>\n",
       "      <td>NaN</td>\n",
       "    </tr>\n",
       "    <tr>\n",
       "      <th>8166</th>\n",
       "      <td>I join my @China_TaskForce colleagues in comme...</td>\n",
       "      <td>2 or 3</td>\n",
       "      <td>join colleagues commending biden formation dep...</td>\n",
       "      <td>0.061375</td>\n",
       "      <td>NaN</td>\n",
       "    </tr>\n",
       "    <tr>\n",
       "      <th>8679</th>\n",
       "      <td>Chinese authorities are hunting down protester...</td>\n",
       "      <td>1</td>\n",
       "      <td>chinese authorities hunting protesters inner m...</td>\n",
       "      <td>0.065898</td>\n",
       "      <td>NaN</td>\n",
       "    </tr>\n",
       "    <tr>\n",
       "      <th>8664</th>\n",
       "      <td>I agree with Attorney General Barr:\\n\\nThe mos...</td>\n",
       "      <td>1</td>\n",
       "      <td>agree attorney general barr aggressive threat ...</td>\n",
       "      <td>0.077333</td>\n",
       "      <td>NaN</td>\n",
       "    </tr>\n",
       "    <tr>\n",
       "      <th>...</th>\n",
       "      <td>...</td>\n",
       "      <td>...</td>\n",
       "      <td>...</td>\n",
       "      <td>...</td>\n",
       "      <td>...</td>\n",
       "    </tr>\n",
       "    <tr>\n",
       "      <th>8608</th>\n",
       "      <td>Universities throughout #Ohio are on the cutti...</td>\n",
       "      <td>1</td>\n",
       "      <td>universities throughout cutting edge innovatio...</td>\n",
       "      <td>1.000000</td>\n",
       "      <td>NaN</td>\n",
       "    </tr>\n",
       "    <tr>\n",
       "      <th>8938</th>\n",
       "      <td>The President needs to have a clear and consis...</td>\n",
       "      <td>1</td>\n",
       "      <td>president needs clear consistent approach chin...</td>\n",
       "      <td>1.000000</td>\n",
       "      <td>NaN</td>\n",
       "    </tr>\n",
       "    <tr>\n",
       "      <th>8614</th>\n",
       "      <td>The Chinese Communist Party actively engaged i...</td>\n",
       "      <td>1</td>\n",
       "      <td>chinese communist party actively engaged cover...</td>\n",
       "      <td>1.000000</td>\n",
       "      <td>NaN</td>\n",
       "    </tr>\n",
       "    <tr>\n",
       "      <th>8920</th>\n",
       "      <td>Proud to co-sponsor this important legislation...</td>\n",
       "      <td>1</td>\n",
       "      <td>proud co sponsor important legislation would h...</td>\n",
       "      <td>1.000000</td>\n",
       "      <td>NaN</td>\n",
       "    </tr>\n",
       "    <tr>\n",
       "      <th>8789</th>\n",
       "      <td>The CCP poses a generational threat to America...</td>\n",
       "      <td>1</td>\n",
       "      <td>ccp poses generational threat america ideals a...</td>\n",
       "      <td>1.000000</td>\n",
       "      <td>NaN</td>\n",
       "    </tr>\n",
       "  </tbody>\n",
       "</table>\n",
       "<p>1014 rows × 5 columns</p>\n",
       "</div>"
      ],
      "text/plain": [
       "                                                   text  Bucket  \\\n",
       "8592  Trump has accomplished more on N Korea to date...       1   \n",
       "8195  Is the Biden administration denying the realit...       1   \n",
       "8166  I join my @China_TaskForce colleagues in comme...  2 or 3   \n",
       "8679  Chinese authorities are hunting down protester...       1   \n",
       "8664  I agree with Attorney General Barr:\\n\\nThe mos...       1   \n",
       "...                                                 ...     ...   \n",
       "8608  Universities throughout #Ohio are on the cutti...       1   \n",
       "8938  The President needs to have a clear and consis...       1   \n",
       "8614  The Chinese Communist Party actively engaged i...       1   \n",
       "8920  Proud to co-sponsor this important legislation...       1   \n",
       "8789  The CCP poses a generational threat to America...       1   \n",
       "\n",
       "                                           text_cleaned        lc prob  \n",
       "8592  trump accomplished n korea date us president c...  0.025438  NaN  \n",
       "8195  biden administration denying reality china ong...  0.030828  NaN  \n",
       "8166  join colleagues commending biden formation dep...  0.061375  NaN  \n",
       "8679  chinese authorities hunting protesters inner m...  0.065898  NaN  \n",
       "8664  agree attorney general barr aggressive threat ...  0.077333  NaN  \n",
       "...                                                 ...       ...  ...  \n",
       "8608  universities throughout cutting edge innovatio...  1.000000  NaN  \n",
       "8938  president needs clear consistent approach chin...  1.000000  NaN  \n",
       "8614  chinese communist party actively engaged cover...  1.000000  NaN  \n",
       "8920  proud co sponsor important legislation would h...  1.000000  NaN  \n",
       "8789  ccp poses generational threat america ideals a...  1.000000  NaN  \n",
       "\n",
       "[1014 rows x 5 columns]"
      ]
     },
     "execution_count": 87,
     "metadata": {},
     "output_type": "execute_result"
    }
   ],
   "source": []
  },
  {
   "cell_type": "code",
   "execution_count": 88,
   "id": "f2cfa564",
   "metadata": {},
   "outputs": [
    {
     "data": {
      "text/plain": [
       "0        [0.9999667583047778, 3.324169522227354e-05]\n",
       "1                       [1.0, 1.126790769132397e-17]\n",
       "2         [0.999999645553605, 3.544463950429719e-07]\n",
       "3        [0.999999982722623, 1.7277377019064615e-08]\n",
       "4        [1.197127113217178e-06, 0.9999988028728868]\n",
       "                            ...                     \n",
       "1009     [5.548468931637629e-06, 0.9999944515310684]\n",
       "1010     [2.3590018827235326e-12, 0.999999999997641]\n",
       "1011     [3.633623123544538e-05, 0.9999636637687646]\n",
       "1012    [0.00015082292482426762, 0.9998491770751757]\n",
       "1013     [1.5408540950945238e-05, 0.999984591459049]\n",
       "Length: 1014, dtype: object"
      ]
     },
     "execution_count": 88,
     "metadata": {},
     "output_type": "execute_result"
    }
   ],
   "source": [
    "pd.Series(list(prob))"
   ]
  },
  {
   "cell_type": "markdown",
   "id": "fdddbfe6",
   "metadata": {},
   "source": [
    "#### Best-versus-Second-Best (BvSB)"
   ]
  },
  {
   "cell_type": "markdown",
   "id": "edb9660d",
   "metadata": {},
   "source": [
    "- Find the two most probable classes (the classes having the highest and second-highest probabilities), then minimize the difference of probabilities between them.\n",
    "- 0.8 - 0.1 = 0.7; 0.5 - 0.4 = 0.1; 0.7 > 0.1 so (0.5, 0.4 is more uncertain)\n"
   ]
  },
  {
   "cell_type": "markdown",
   "id": "ec6bf587",
   "metadata": {},
   "source": [
    "Since we only have two classes here, therefore, we will not explore Best-versus-Second-Best strategy"
   ]
  },
  {
   "cell_type": "markdown",
   "id": "e13cbb13",
   "metadata": {},
   "source": [
    "#### Entropy"
   ]
  },
  {
   "cell_type": "markdown",
   "id": "fd9cb285",
   "metadata": {},
   "source": [
    "- For classification with a large number of classes, above two posterior probability-based strategies do not fit to be optimal because they consider one or two most probable classes for sampling. The information lying in the remaining classes’ probability distribution is unused. To address this issue, the entropy measure is designed for sampling.\n",
    "- Maximize the entropy will give us the data sample which the model is least certain about the class assignment.\n"
   ]
  },
  {
   "cell_type": "markdown",
   "id": "053cc330",
   "metadata": {},
   "source": [
    "**Binary Cross Entropy** is the negative average of the log of corrected predicted probabilities."
   ]
  },
  {
   "cell_type": "markdown",
   "id": "294a6aff",
   "metadata": {},
   "source": [
    "https://www.analyticsvidhya.com/blog/2021/03/binary-cross-entropy-log-loss-for-binary-classification/"
   ]
  },
  {
   "cell_type": "code",
   "execution_count": null,
   "id": "e6316b33",
   "metadata": {},
   "outputs": [],
   "source": []
  },
  {
   "cell_type": "code",
   "execution_count": null,
   "id": "4df10a9c",
   "metadata": {},
   "outputs": [],
   "source": []
  },
  {
   "cell_type": "markdown",
   "id": "9836e511",
   "metadata": {},
   "source": [
    "#### Sentiment Prediction"
   ]
  },
  {
   "cell_type": "code",
   "execution_count": null,
   "id": "d5316d02",
   "metadata": {},
   "outputs": [],
   "source": []
  },
  {
   "cell_type": "code",
   "execution_count": null,
   "id": "4cd97a62",
   "metadata": {},
   "outputs": [],
   "source": [
    "from scipy.stats import entropy\n",
    "base = 2  # work in units of bits\n",
    "pk = np.array([2/4, 2/4])  # fair coin\n",
    "H = entropy(pk, base=base)\n",
    "H"
   ]
  },
  {
   "cell_type": "code",
   "execution_count": null,
   "id": "4594478b",
   "metadata": {},
   "outputs": [],
   "source": []
  }
 ],
 "metadata": {
  "kernelspec": {
   "display_name": "Python 3",
   "language": "python",
   "name": "python3"
  },
  "language_info": {
   "codemirror_mode": {
    "name": "ipython",
    "version": 3
   },
   "file_extension": ".py",
   "mimetype": "text/x-python",
   "name": "python",
   "nbconvert_exporter": "python",
   "pygments_lexer": "ipython3",
   "version": "3.8.8"
  }
 },
 "nbformat": 4,
 "nbformat_minor": 5
}
