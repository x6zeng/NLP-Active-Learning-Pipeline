{
 "cells": [
  {
   "cell_type": "code",
   "execution_count": 33,
   "id": "3e04c5c9",
   "metadata": {},
   "outputs": [],
   "source": [
    "import numpy as np\n",
    "import pandas as pd\n",
    "import math\n",
    "import re\n",
    "from nltk.corpus import stopwords\n",
    "import seaborn as sns\n",
    "import unidecode\n",
    "from sklearn.utils import resample\n",
    "import warnings\n",
    "from sklearn.model_selection import train_test_split\n",
    "from sklearn.metrics import plot_confusion_matrix, f1_score, accuracy_score, precision_score, recall_score\n",
    "from sklearn.compose import ColumnTransformer\n",
    "from sklearn.feature_extraction.text import TfidfVectorizer, CountVectorizer\n",
    "from sklearn.naive_bayes import BernoulliNB\n",
    "from sklearn.multiclass import OneVsRestClassifier\n",
    "from sklearn.pipeline import Pipeline\n",
    "from sklearn.model_selection import cross_val_score\n",
    "from sklearn.model_selection import ShuffleSplit\n",
    "import matplotlib.pyplot as plt\n",
    "import seaborn as sns \n",
    "warnings.filterwarnings('ignore')"
   ]
  },
  {
   "cell_type": "code",
   "execution_count": 34,
   "id": "4226012a",
   "metadata": {},
   "outputs": [],
   "source": [
    "df_2022 = pd.read_csv('../data/tweet_data_2022.csv')\n",
    "df_2023 = pd.read_csv('../data/tweet_data_2023.csv')"
   ]
  },
  {
   "cell_type": "markdown",
   "id": "bcbef731",
   "metadata": {},
   "source": [
    "### Three types of Sampling Strategies\n",
    "- Committee-based Strategies\n",
    "    -  Build several models and use the models’ prediction to determine the most informative data. The data is considered as most informative if there is maximum disagreement in predictions from the models. The disagreement can be measured by entropy or KL-Divergence\n",
    "        - Query by Committee (QBC)\n",
    "        - Entropy-based Query by Bagging (EQB)\n",
    "        - Adaptive Maximum Disagreement (AMD)\n",
    "\n",
    "\n",
    "- Large margin-based Strategies\n",
    "    - Specifically for margin-based classifiers such as SVM. The distance to the separating hyperplane can be viewed as a good metric to measure the model’s confidence or certainty on unlabeled data samples. In SVM, the support vectors which define the decision boundary would be the most informative data samples.\n",
    "        - Margin Sampling (MS)\n",
    "        - Multiclass Level Uncertainty (MCLU)\n",
    "        - Margin Sampling-closest Support Vectors (MS-cSV)\n",
    "        \n",
    "- Posterior probability-based Strategies\n",
    "    - Based on the estimation of class membership probabilities. The posterior probability distribution is used to determine whether the unlabeled data sample should be queried for label or not. This strategy can be used with any type of model which has the ability to predict output probabilities for class membership. The posterior probability distribution gives an idea about the model’s confidence and certainty in the assignment of a particular class to the data sample.\n",
    "        - Least Confidence (LC)\n",
    "        - Best-versus-Second-Best (BvSB) or Smallest Margin\n",
    "        - Entropy"
   ]
  },
  {
   "cell_type": "markdown",
   "id": "b2f3c838",
   "metadata": {},
   "source": [
    "- **Yunyi** will explore **Query by Committee (QBC)** and **Entropy-based Query by Bagging (EQB)**\n",
    "\n",
    "\n",
    "- **Tony** will explore Posterior probability-based Startegies including **least confidence** and **Entropy**"
   ]
  },
  {
   "cell_type": "markdown",
   "id": "646d145c",
   "metadata": {},
   "source": [
    "From the previous quarter, the best model for relevance prediction is **Naive Bayes** and the best model for sentiment prediction is **Random Forest**. Because neither Naive Bayes nor Random Forest belongs to margin-based models, we will not explore large margin-based startegies in the project. "
   ]
  },
  {
   "cell_type": "markdown",
   "id": "3954ca06",
   "metadata": {},
   "source": [
    "### Active Learning Pipeline Procedures"
   ]
  },
  {
   "cell_type": "markdown",
   "id": "10f27580",
   "metadata": {},
   "source": [
    "**1. Balance and partition the dataset**\n",
    "- Shuffle the dataset and separate the data based on the label (Group 1 vs. Group 2 or 3)\n",
    "- For each group of data:\n",
    "    - Seed: Used for training the model, 80% of the dataset\n",
    "    - Unlabeled: Used for active learning, 10% of the dataset\n",
    "    - Test: Used for testing the changes of model result before and after the active learning, 10% of the dataset\n",
    "- Combine the groups of data\n",
    "\n",
    "**2. Train the model using Seed data and cross-validation**\n",
    "- Train the Bernoulli Naive Bayes Model using the Seed data\n",
    "- Apply cross-validation to find the most consistant model parameters\n",
    "\n",
    "**3. Choose unlabeled instances**\n",
    "- Using Pool-based sampling, choose the round of iterations and the number of instances to add to the training set\n",
    "- For each iteration, \n",
    "    - select X instances from the unlabeled data using the sampling strategies\n",
    "    - add the instances to the training set\n",
    "    \n",
    "**4. Stopping criteria**\n",
    "- \\# of instances queried\n",
    "- \\# of iterations of steps 2 and 3\n",
    "- After the performance doesn't imporve significantly\n",
    "\n",
    "**5. Compare the model performances on Test set**\n",
    "- Report the accuracy of the model that uses only Seed data as the training set\n",
    "- Report the accuracy of the model after using active learning\n",
    "- Report the accuracy of the model with random sampled data from the unlabeled pool"
   ]
  },
  {
   "cell_type": "markdown",
   "id": "f6665c20",
   "metadata": {},
   "source": [
    "### Data Preprocessing"
   ]
  },
  {
   "cell_type": "code",
   "execution_count": 3,
   "id": "b09f8fe7",
   "metadata": {},
   "outputs": [],
   "source": [
    "def standardize_bucket(bucket):\n",
    "    if ((bucket == '1.0') | (bucket == '1')):\n",
    "        return '1'\n",
    "    elif ((bucket == '2') | (bucket == '3') | (bucket == '2.0') | (bucket == '3.0')):\n",
    "        return '2 or 3'\n",
    "    else:\n",
    "        return bucket"
   ]
  },
  {
   "cell_type": "code",
   "execution_count": 4,
   "id": "3034b30c",
   "metadata": {},
   "outputs": [],
   "source": [
    "def clean_text(text):\n",
    "    if type(text) == np.float:\n",
    "        return \"\"\n",
    "    temp = text.lower() # to lower case\n",
    "    temp = re.sub(\"'\", \"\", temp) # to avoid removing contractions in english\n",
    "    temp = re.sub(\"@[A-Za-z0-9_]+\",\"\", temp) # remove @s\n",
    "    temp = re.sub(\"#[A-Za-z0-9_]+\",\"\", temp) # remove hashtags\n",
    "    temp = re.sub(r'http\\S+', '', temp) # remove links\n",
    "    temp = re.sub(r\"www.\\S+\", \"\", temp) # remove links\n",
    "    temp = re.sub(r'\\n|[^a-zA-Z]', ' ', temp) # remove punctuation\n",
    "    temp = temp.replace(\"\\n\", \" \").split()\n",
    "    temp = [w for w in temp if not w in stopwords_] # remove stopwords\n",
    "    temp = [w for w in temp if not w.isdigit()] # remove numbers\n",
    "    temp = [unidecode.unidecode(w) for w in temp] # turn non-enlish letters to english letters\n",
    "    temp = \" \".join(word for word in temp)\n",
    "    return temp"
   ]
  },
  {
   "cell_type": "code",
   "execution_count": 5,
   "id": "b4e128f8",
   "metadata": {},
   "outputs": [],
   "source": [
    "original_stopwords = stopwords.words('english')\n",
    "additional_stopwords = ['none']\n",
    "original_stopwords.extend(additional_stopwords)\n",
    "stopwords_ = set(original_stopwords)\n",
    "\n",
    "#Selects only the tweets about China\n",
    "df = df_2022[df_2022['country']=='China']\n",
    "df = df[['text', 'id', 'Bucket', 'SentimentScore']]\n",
    "#Shuffle the data\n",
    "df = df.sample(frac=1, replace=False, random_state=1) \n",
    "df.reset_index(drop=True, inplace=True)\n",
    "#Standardized the bucket label\n",
    "df['Bucket'] = df['Bucket'].apply(standardize_bucket)\n",
    "#Remove tweets that are in both buckets\n",
    "df_bucket_count = pd.DataFrame(df.groupby('id')['Bucket'].nunique())\n",
    "df_bucket_count.reset_index(inplace=True)\n",
    "df_bucket_count.columns = ['tweet_id', 'bucket_num']\n",
    "df = df.merge(df_bucket_count, left_on='id', right_on='tweet_id')\n",
    "df = df[df['bucket_num'] == 1]\n",
    "#Remove tweets without a bucket (null)\n",
    "df = df[(df['Bucket'] == '1') | (df['Bucket'] == '2 or 3')]\n",
    "#Remove duplicates\n",
    "df = df.drop_duplicates(subset=['id']).reset_index(drop=True)\n",
    "df = df[['text', 'Bucket']]\n",
    "df[\"text_cleaned\"] = [clean_text(t) for t in df[\"text\"]]"
   ]
  },
  {
   "cell_type": "markdown",
   "id": "a324e615",
   "metadata": {},
   "source": [
    "### 1. Balance and Partition the dataset (Group 1 vs. Group 2 or 3; Seed, Unlabeled, Test)"
   ]
  },
  {
   "cell_type": "code",
   "execution_count": 6,
   "id": "edea936a",
   "metadata": {},
   "outputs": [],
   "source": [
    "df_1 = df[df.Bucket=='1']\n",
    "df_2_3 = df[df.Bucket=='2 or 3']\n",
    "sample_size = min(df[df.Bucket=='1'].shape[0], df[df.Bucket=='2 or 3'].shape[0])"
   ]
  },
  {
   "cell_type": "code",
   "execution_count": 7,
   "id": "fa1db0b0",
   "metadata": {},
   "outputs": [],
   "source": [
    "def partition_data(df):\n",
    "    #partiton\n",
    "    df_rows = df.shape[0]\n",
    "    seed_num = math.floor(df_rows * 0.8)\n",
    "    seed = df[:seed_num]\n",
    "    unlabelled_num = seed_num + (math.floor(df_rows * 0.1))\n",
    "    unlabelled = df[seed_num:unlabelled_num]\n",
    "    test = df[unlabelled_num:]\n",
    "    return seed, unlabelled, test"
   ]
  },
  {
   "cell_type": "code",
   "execution_count": 8,
   "id": "09aa61b1",
   "metadata": {},
   "outputs": [],
   "source": [
    "seed_1, unlabeled_1, test_1 = partition_data(df_1)\n",
    "seed_2_3, unlabeled_2_3, test_2_3 = partition_data(df_2_3)\n",
    "seed = pd.concat([seed_1, seed_2_3])\n",
    "unlabeled = pd.concat([unlabeled_1, unlabeled_2_3])\n",
    "test = pd.concat([test_1, test_2_3])\n",
    "# print(seed.shape)\n",
    "# print(unlabeled.shape)\n",
    "# print(test.shape)"
   ]
  },
  {
   "cell_type": "code",
   "execution_count": 9,
   "id": "a792e45b",
   "metadata": {},
   "outputs": [],
   "source": [
    "seed_1 = seed[seed.Bucket=='1']\n",
    "seed_2_3 = seed[seed.Bucket=='2 or 3']\n",
    "sample_size = min(seed_1.shape[0], seed_2_3.shape[0])\n",
    "seed_1_b = resample(seed_1, replace=False, n_samples=sample_size, random_state=123)\n",
    "seed_2_3_b = resample(seed_2_3, replace=False, n_samples=sample_size, random_state=123)\n",
    "seed = pd.concat([seed_1_b, seed_2_3_b])"
   ]
  },
  {
   "cell_type": "code",
   "execution_count": 10,
   "id": "174d2065",
   "metadata": {},
   "outputs": [
    {
     "data": {
      "text/plain": [
       "1         1649\n",
       "2 or 3    1649\n",
       "Name: Bucket, dtype: int64"
      ]
     },
     "execution_count": 10,
     "metadata": {},
     "output_type": "execute_result"
    }
   ],
   "source": [
    "seed.Bucket.value_counts()"
   ]
  },
  {
   "cell_type": "code",
   "execution_count": 11,
   "id": "8b14c3ba",
   "metadata": {},
   "outputs": [],
   "source": [
    "initial_seed = seed.copy()\n",
    "initial_unlabeled = unlabeled.copy()"
   ]
  },
  {
   "cell_type": "markdown",
   "id": "e86f361a",
   "metadata": {},
   "source": [
    "### 2. Train the model using Seed data and cross-validation"
   ]
  },
  {
   "cell_type": "code",
   "execution_count": 12,
   "id": "6a0c2618",
   "metadata": {},
   "outputs": [],
   "source": [
    "def train_model(seed):\n",
    "    random_state_value = 2\n",
    "    round_number = 4\n",
    "    categories = ['Bucket']\n",
    "    train, test = train_test_split(seed, random_state=42, test_size=0.2, shuffle=True)\n",
    "    X_train, X_test, Y_train, Y_test = train[['text_cleaned']], test[['text_cleaned']], train[['Bucket']], test[['Bucket']]\n",
    "#     print(\"X_train has {} rows.\".format(X_train.shape[0]))\n",
    "#     print(\"X_test has {} rows.\".format(X_test.shape[0]))\n",
    "#     print(\"Y_train has {} rows.\".format(Y_train.shape[0]))\n",
    "#     print(\"Y_test has {} rows.\".format(Y_test.shape[0]))\n",
    "    \n",
    "    #Wrap in ColumnTransformer\n",
    "    preprocessor = ColumnTransformer(\n",
    "        transformers=[\n",
    "            (\"tf\", CountVectorizer(stop_words=stopwords_), 'text_cleaned'),\n",
    "            (\"tfidf\", TfidfVectorizer(stop_words=stopwords_), 'text_cleaned')]\n",
    "    )\n",
    "    \n",
    "    #Define the model\n",
    "    model = BernoulliNB(fit_prior=True, class_prior=None)\n",
    "    model_name = 'Bernoulli Naive Bayes'\n",
    "    \n",
    "    #Build the pipeline\n",
    "    pipeline = Pipeline([\n",
    "                ('preprocessor', preprocessor),\n",
    "                ('clf', OneVsRestClassifier(model, n_jobs=1)),\n",
    "            ])\n",
    "    \n",
    "    #Train the model\n",
    "    pipeline.fit(X_train, Y_train)\n",
    "\n",
    "    # compute the testing accuracy\n",
    "    prediction = pipeline.predict(pd.DataFrame(X_test))\n",
    "#     print('The model name is ' + model_name + '.')\n",
    "#     print('Test accuracy is {}'.format(round(accuracy_score(Y_test, prediction), round_number)))\n",
    "    \n",
    "    # compute the f1 score\n",
    "#     f1 = round(f1_score(np.array(Y_test), prediction, pos_label='1'), round_number)\n",
    "#     print('F1 score is {}'.format(f1))\n",
    "    # compute the precision score\n",
    "#     precision = round(precision_score(np.array(Y_test), prediction, pos_label='1', average='binary'), round_number)\n",
    "#     print('Precision score is {}'.format(precision))\n",
    "    # compute the precision score\n",
    "#     recall = round(recall_score(np.array(Y_test), prediction, pos_label='1', average='binary'), round_number)\n",
    "#     print('Recall score is {}'.format(recall))\n",
    "#     plot_confusion_matrix(pipeline, X_test, Y_test)\n",
    "#     plt.show()\n",
    "#     plot_confusion_matrix(pipeline, X_test, Y_test, normalize='true')\n",
    "#     plt.show()\n",
    "    \n",
    "    #Cross Validation\n",
    "    cv = ShuffleSplit(n_splits=5, test_size=0.2, random_state=0)\n",
    "\n",
    "    cross_val_score_train = cross_val_score(pipeline, X_train, Y_train, cv=cv)\n",
    "#     print(\"Cross Validation on the training set\")\n",
    "#     print(round(np.mean(cross_val_score_train), 3))\n",
    "    \n",
    "    return pipeline, round(np.mean(cross_val_score_train), 3)"
   ]
  },
  {
   "cell_type": "code",
   "execution_count": 13,
   "id": "185a35cf",
   "metadata": {},
   "outputs": [],
   "source": [
    "initial_pipeline, initial_score  = train_model(initial_seed)"
   ]
  },
  {
   "cell_type": "markdown",
   "id": "6460c13d",
   "metadata": {},
   "source": [
    "## 3. Choose unlabeled instances"
   ]
  },
  {
   "cell_type": "markdown",
   "id": "471dad29",
   "metadata": {},
   "source": [
    "#### Least Confidence"
   ]
  },
  {
   "cell_type": "markdown",
   "id": "7e373943",
   "metadata": {},
   "source": [
    "- Select the unlabeled data samples for which the model is least confident in prediction or class assignment. \n",
    "- These data samples improve the model’s discriminative ability. 50%-50% > 90%-10%\n"
   ]
  },
  {
   "cell_type": "code",
   "execution_count": 14,
   "id": "85d4bb44",
   "metadata": {},
   "outputs": [],
   "source": [
    "def calc_entropy(x):\n",
    "    p1, p2 = x[0], x[1]\n",
    "    entropy = p1 * math.log2(1/p1) + p2 * math.log2(1/p2)\n",
    "    return entropy\n",
    "\n",
    "#Choose strategy\n",
    "def choose_unlabeled(pipeline, unlabeled):\n",
    "    unlabeled_x = unlabeled[['text_cleaned']]\n",
    "    unlabeled_y = unlabeled[['Bucket']]\n",
    "    prob = pipeline.predict_proba(unlabeled_x)\n",
    "    unlabeled['prob'] = list(prob)\n",
    "    unlabeled['lc'] = np.abs(np.diff(prob)).flatten() #least confidence\n",
    "    unlabeled['entropy'] = unlabeled['prob'].apply(calc_entropy) #entropy\n",
    "    unlabeled.sort_values(by=['entropy'], ascending=False, inplace=True)"
   ]
  },
  {
   "cell_type": "code",
   "execution_count": 15,
   "id": "c71b1dea",
   "metadata": {},
   "outputs": [],
   "source": [
    "# sns.distplot(unlabeled['lc'], hist=True, kde=True, \n",
    "#              bins=int(20), color = 'darkblue', \n",
    "#              hist_kws={'edgecolor':'black'},\n",
    "#              kde_kws={'linewidth': 4})"
   ]
  },
  {
   "cell_type": "markdown",
   "id": "f7ec17fa",
   "metadata": {},
   "source": [
    "### 4. Stopping Criteria"
   ]
  },
  {
   "cell_type": "markdown",
   "id": "94e84497",
   "metadata": {},
   "source": [
    "1. Update the unlabeled data and the info_data\n",
    "2. Add info_data to the training set\n",
    "2. Retrain the model\n",
    "3. Select the data with the most informative data again\n"
   ]
  },
  {
   "cell_type": "markdown",
   "id": "a5ead9c3",
   "metadata": {},
   "source": [
    "## Active Learning Pipeline"
   ]
  },
  {
   "cell_type": "code",
   "execution_count": 16,
   "id": "bcb5b489",
   "metadata": {},
   "outputs": [],
   "source": [
    "#     ''' \n",
    "#     seed      - initial training data for the model\n",
    "#     instances - number of instances to add to the seed data in one iteration\n",
    "#     iteration - number of iteration for the active learning process\n",
    "#     '''\n",
    "    \n",
    "def active_learning(seed, unlabeled, instances, iteration):\n",
    "    for i in range(iteration):\n",
    "#         print('--------------------------------')\n",
    "#         print('Seed has {} rows'.format(seed.shape[0]))\n",
    "        # Record model result\n",
    "        pipeline, model_result = train_model(seed)\n",
    "        choose_unlabeled(pipeline, unlabeled) #sort the unlabeled data based on informativeness level\n",
    "\n",
    "        #Update the unlabeled data and the info_data\n",
    "        info_data = unlabeled.iloc[:instances]\n",
    "        unlabeled = unlabeled.iloc[instances:]\n",
    "\n",
    "        # Add info_data to the training set\n",
    "        seed = pd.concat([seed, info_data[['text', 'Bucket', 'text_cleaned']]])\n",
    "#         print('--------------------------------')\n",
    "    return pipeline, instances, iteration, model_result"
   ]
  },
  {
   "cell_type": "code",
   "execution_count": 17,
   "id": "43aa4b6c",
   "metadata": {},
   "outputs": [
    {
     "name": "stdout",
     "output_type": "stream",
     "text": [
      "--------------------------------\n",
      "instance = 2\n",
      "iteration = 1\n",
      "--------------------------------\n",
      "instance = 2\n",
      "iteration = 2\n",
      "--------------------------------\n",
      "instance = 2\n",
      "iteration = 3\n",
      "--------------------------------\n",
      "instance = 2\n",
      "iteration = 4\n",
      "--------------------------------\n",
      "instance = 2\n",
      "iteration = 5\n",
      "--------------------------------\n",
      "instance = 4\n",
      "iteration = 1\n",
      "--------------------------------\n",
      "instance = 4\n",
      "iteration = 2\n",
      "--------------------------------\n",
      "instance = 4\n",
      "iteration = 3\n",
      "--------------------------------\n",
      "instance = 4\n",
      "iteration = 4\n",
      "--------------------------------\n",
      "instance = 4\n",
      "iteration = 5\n",
      "--------------------------------\n",
      "instance = 6\n",
      "iteration = 1\n",
      "--------------------------------\n",
      "instance = 6\n",
      "iteration = 2\n",
      "--------------------------------\n",
      "instance = 6\n",
      "iteration = 3\n",
      "--------------------------------\n",
      "instance = 6\n",
      "iteration = 4\n",
      "--------------------------------\n",
      "instance = 6\n",
      "iteration = 5\n",
      "--------------------------------\n",
      "instance = 8\n",
      "iteration = 1\n",
      "--------------------------------\n",
      "instance = 8\n",
      "iteration = 2\n",
      "--------------------------------\n",
      "instance = 8\n",
      "iteration = 3\n",
      "--------------------------------\n",
      "instance = 8\n",
      "iteration = 4\n",
      "--------------------------------\n",
      "instance = 8\n",
      "iteration = 5\n",
      "--------------------------------\n",
      "instance = 10\n",
      "iteration = 1\n",
      "--------------------------------\n",
      "instance = 10\n",
      "iteration = 2\n",
      "--------------------------------\n",
      "instance = 10\n",
      "iteration = 3\n",
      "--------------------------------\n",
      "instance = 10\n",
      "iteration = 4\n",
      "--------------------------------\n",
      "instance = 10\n",
      "iteration = 5\n",
      "--------------------------------\n",
      "instance = 20\n",
      "iteration = 1\n",
      "--------------------------------\n",
      "instance = 20\n",
      "iteration = 2\n",
      "--------------------------------\n",
      "instance = 20\n",
      "iteration = 3\n",
      "--------------------------------\n",
      "instance = 20\n",
      "iteration = 4\n",
      "--------------------------------\n",
      "instance = 20\n",
      "iteration = 5\n",
      "--------------------------------\n",
      "instance = 30\n",
      "iteration = 1\n",
      "--------------------------------\n",
      "instance = 30\n",
      "iteration = 2\n",
      "--------------------------------\n",
      "instance = 30\n",
      "iteration = 3\n",
      "--------------------------------\n",
      "instance = 30\n",
      "iteration = 4\n",
      "--------------------------------\n",
      "instance = 30\n",
      "iteration = 5\n",
      "--------------------------------\n",
      "instance = 40\n",
      "iteration = 1\n",
      "--------------------------------\n",
      "instance = 40\n",
      "iteration = 2\n",
      "--------------------------------\n",
      "instance = 40\n",
      "iteration = 3\n",
      "--------------------------------\n",
      "instance = 40\n",
      "iteration = 4\n",
      "--------------------------------\n",
      "instance = 40\n",
      "iteration = 5\n"
     ]
    }
   ],
   "source": [
    "# instances_lst = [2, 4, 6, 8, 10, 20, 30, 40]\n",
    "# iteration_lst = [1, 2, 3, 4, 5]\n",
    "# model_result_lst = []\n",
    "# model_spec_lst = []\n",
    "\n",
    "# for i in instances_lst:\n",
    "#     for j in iteration_lst:\n",
    "#         print('--------------------------------')\n",
    "#         print('instance = {}'.format(i))\n",
    "#         print('iteration = {}'.format(j))\n",
    "#         pipeline, instances, iteration, model_result = active_learning(initial_seed, initial_unlabeled, i, j) \n",
    "#         model_spec_lst.append([instances, iteration])\n",
    "#         model_result_lst.append(model_result)"
   ]
  },
  {
   "cell_type": "code",
   "execution_count": 18,
   "id": "25d25d26",
   "metadata": {},
   "outputs": [],
   "source": [
    "# x = np.array(model_spec_lst)[:, 0]\n",
    "# y = np.array(model_spec_lst)[:, 1]\n",
    "# z = np.array(model_result_lst)\n",
    "# d = np.dstack([x,y,z])[0]\n",
    "# model_df = pd.DataFrame(d, columns=['instances', 'iteration', 'model_score'])"
   ]
  },
  {
   "cell_type": "code",
   "execution_count": 21,
   "id": "cf71a45f",
   "metadata": {},
   "outputs": [
    {
     "data": {
      "text/plain": [
       "<AxesSubplot:>"
      ]
     },
     "execution_count": 21,
     "metadata": {},
     "output_type": "execute_result"
    },
    {
     "data": {
      "image/png": "[encoded data removed]",
      "text/plain": [
       "<Figure size 864x504 with 2 Axes>"
      ]
     },
     "metadata": {
      "needs_background": "light"
     },
     "output_type": "display_data"
    }
   ],
   "source": [
    "# ins_set = set(model_df['instances'])\n",
    "# iter_set = set(model_df['iteration'])\n",
    "# score = np.array(model_df['model_score']).reshape([len(instances_lst), len(iteration_lst)])\n",
    "# idx_raw = list(ins_set)\n",
    "# idx_raw.sort()\n",
    "# idx = idx_raw\n",
    "# # Defining columns for the dataframe\n",
    "# cols = list(iter_set)\n",
    "# heat_df = pd.DataFrame(score, columns = cols, index = idx)\n",
    "# # Defining figure size for the output plot \n",
    "# fig, ax = plt.subplots(figsize = (12, 7))\n",
    "# # Displaying dataframe as an heatmap \n",
    "# # with diverging colourmap as RdYlGn\n",
    "# sns.heatmap(heat_df, cmap ='RdYlGn', linewidths = 0.30, annot = True)"
   ]
  },
  {
   "cell_type": "markdown",
   "id": "b3515eb0",
   "metadata": {},
   "source": [
    "## 5. Model Result Comparison"
   ]
  },
  {
   "cell_type": "code",
   "execution_count": 22,
   "id": "7a50fa60",
   "metadata": {},
   "outputs": [],
   "source": [
    "def test_model(pipeline, data):\n",
    "    random_state_value = 2\n",
    "    round_number = 4\n",
    "    categories = ['Bucket']\n",
    "    X_test, Y_test = data[['text_cleaned']], data[['Bucket']]\n",
    "    print(\"X_test has {} rows.\".format(X_test.shape[0]))\n",
    "    print(\"Y_test has {} rows.\".format(Y_test.shape[0]))\n",
    "\n",
    "    # compute the testing accuracy\n",
    "    prediction = pipeline.predict(pd.DataFrame(X_test))\n",
    "    print('Test accuracy is {}'.format(round(accuracy_score(Y_test, prediction), round_number)))\n",
    "    \n",
    "    # compute the f1 score\n",
    "    f1 = round(f1_score(np.array(Y_test), prediction, pos_label='1'), round_number)\n",
    "    print('F1 score is {}'.format(f1))\n",
    "    # compute the precision score\n",
    "    precision = round(precision_score(np.array(Y_test), prediction, pos_label='1', average='binary'), round_number)\n",
    "    print('Precision score is {}'.format(precision))\n",
    "    # compute the precision score\n",
    "    recall = round(recall_score(np.array(Y_test), prediction, pos_label='1', average='binary'), round_number)\n",
    "    print('Recall score is {}'.format(recall))\n",
    "    plot_confusion_matrix(pipeline, X_test, Y_test)\n",
    "    plt.show()\n",
    "    plot_confusion_matrix(pipeline, X_test, Y_test, normalize='true')\n",
    "    plt.show()"
   ]
  },
  {
   "cell_type": "markdown",
   "id": "77f73c06",
   "metadata": {},
   "source": [
    "### Model (Trained w/ seed) Performance"
   ]
  },
  {
   "cell_type": "code",
   "execution_count": 23,
   "id": "a9df7ece",
   "metadata": {},
   "outputs": [
    {
     "name": "stdout",
     "output_type": "stream",
     "text": [
      "X_test has 1016 rows.\n",
      "Y_test has 1016 rows.\n",
      "Test accuracy is 0.7717\n",
      "F1 score is 0.8398\n",
      "Precision score is 0.9515\n",
      "Recall score is 0.7515\n"
     ]
    },
    {
     "data": {
      "image/png": "[encoded data removed]",
      "text/plain": [
       "<Figure size 432x288 with 2 Axes>"
      ]
     },
     "metadata": {
      "needs_background": "light"
     },
     "output_type": "display_data"
    },
    {
     "data": {
      "image/png": "[encoded data removed]",
      "text/plain": [
       "<Figure size 432x288 with 2 Axes>"
      ]
     },
     "metadata": {
      "needs_background": "light"
     },
     "output_type": "display_data"
    }
   ],
   "source": [
    "test_model(initial_pipeline, test)"
   ]
  },
  {
   "cell_type": "markdown",
   "id": "30cdcdb1",
   "metadata": {},
   "source": [
    "### Model (Trained w/ seed + randomly sampled unlabeled) Performance"
   ]
  },
  {
   "cell_type": "code",
   "execution_count": 24,
   "id": "df132163",
   "metadata": {},
   "outputs": [
    {
     "name": "stdout",
     "output_type": "stream",
     "text": [
      "X_test has 1016 rows.\n",
      "Y_test has 1016 rows.\n",
      "Test accuracy is 0.7766\n",
      "F1 score is 0.8438\n",
      "Precision score is 0.9519\n",
      "Recall score is 0.7577\n"
     ]
    },
    {
     "data": {
      "image/png": "[encoded data removed]",
      "text/plain": [
       "<Figure size 432x288 with 2 Axes>"
      ]
     },
     "metadata": {
      "needs_background": "light"
     },
     "output_type": "display_data"
    },
    {
     "data": {
      "image/png": "[encoded data removed]",
      "text/plain": [
       "<Figure size 432x288 with 2 Axes>"
      ]
     },
     "metadata": {
      "needs_background": "light"
     },
     "output_type": "display_data"
    }
   ],
   "source": [
    "#Shuffle the data\n",
    "sample_unlabeled = initial_unlabeled.sample(n=40, replace=False, random_state=1) \n",
    "# initial_unlabeled.reset_index(drop=True, inplace=True)\n",
    "seed_and_sample_unlabeled_df = pd.concat([initial_seed, sample_unlabeled])\n",
    "seed_and_sample_unlabeled_pipeline, seed_and_sample_unlabeled_score = train_model(seed_and_sample_unlabeled_df)\n",
    "test_model(seed_and_sample_unlabeled_pipeline, test)"
   ]
  },
  {
   "cell_type": "markdown",
   "id": "299dc191",
   "metadata": {},
   "source": [
    "### Model (Trained w/ seed + active learning) Performance"
   ]
  },
  {
   "cell_type": "code",
   "execution_count": 27,
   "id": "f0100135",
   "metadata": {},
   "outputs": [
    {
     "name": "stdout",
     "output_type": "stream",
     "text": [
      "X_test has 1016 rows.\n",
      "Y_test has 1016 rows.\n",
      "Test accuracy is 0.7736\n",
      "F1 score is 0.8414\n",
      "Precision score is 0.9516\n",
      "Recall score is 0.754\n"
     ]
    },
    {
     "data": {
      "image/png": "[encoded data removed]",
      "text/plain": [
       "<Figure size 432x288 with 2 Axes>"
      ]
     },
     "metadata": {
      "needs_background": "light"
     },
     "output_type": "display_data"
    },
    {
     "data": {
      "image/png": "[encoded data removed]",
      "text/plain": [
       "<Figure size 432x288 with 2 Axes>"
      ]
     },
     "metadata": {
      "needs_background": "light"
     },
     "output_type": "display_data"
    }
   ],
   "source": [
    "active_learning_pipeline, instances, iteration, model_result = active_learning(initial_seed, initial_unlabeled, 10, 4)\n",
    "test_model(active_learning_pipeline, test)"
   ]
  },
  {
   "cell_type": "code",
   "execution_count": null,
   "id": "0ef1c0d0",
   "metadata": {},
   "outputs": [],
   "source": []
  },
  {
   "cell_type": "markdown",
   "id": "f6209883",
   "metadata": {},
   "source": [
    "#### Best-versus-Second-Best (BvSB)"
   ]
  },
  {
   "cell_type": "markdown",
   "id": "4aa4259a",
   "metadata": {},
   "source": [
    "- Find the two most probable classes (the classes having the highest and second-highest probabilities), then minimize the difference of probabilities between them.\n",
    "- 0.8 - 0.1 = 0.7; 0.5 - 0.4 = 0.1; 0.7 > 0.1 so (0.5, 0.4 is more uncertain)\n"
   ]
  },
  {
   "cell_type": "markdown",
   "id": "54b92b82",
   "metadata": {},
   "source": [
    "Since we only have two classes here, therefore, we will not explore Best-versus-Second-Best strategy"
   ]
  },
  {
   "cell_type": "markdown",
   "id": "266427f3",
   "metadata": {},
   "source": [
    "#### Entropy"
   ]
  },
  {
   "cell_type": "markdown",
   "id": "76d86e0b",
   "metadata": {},
   "source": [
    "- For classification with a large number of classes, above two posterior probability-based strategies do not fit to be optimal because they consider one or two most probable classes for sampling. The information lying in the remaining classes’ probability distribution is unused. To address this issue, the entropy measure is designed for sampling.\n",
    "- Maximize the entropy will give us the data sample which the model is least certain about the class assignment.\n"
   ]
  },
  {
   "cell_type": "markdown",
   "id": "0b07c72c",
   "metadata": {},
   "source": [
    "**Binary Cross Entropy** is the negative average of the log of corrected predicted probabilities."
   ]
  },
  {
   "cell_type": "markdown",
   "id": "c9f13365",
   "metadata": {},
   "source": [
    "https://www.analyticsvidhya.com/blog/2021/03/binary-cross-entropy-log-loss-for-binary-classification/"
   ]
  }
 ],
 "metadata": {
  "kernelspec": {
   "display_name": "Python 3",
   "language": "python",
   "name": "python3"
  },
  "language_info": {
   "codemirror_mode": {
    "name": "ipython",
    "version": 3
   },
   "file_extension": ".py",
   "mimetype": "text/x-python",
   "name": "python",
   "nbconvert_exporter": "python",
   "pygments_lexer": "ipython3",
   "version": "3.8.8"
  }
 },
 "nbformat": 4,
 "nbformat_minor": 5
}
