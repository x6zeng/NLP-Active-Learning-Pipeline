{
 "cells": [
  {
   "cell_type": "code",
   "execution_count": 1,
   "id": "3e04c5c9",
   "metadata": {},
   "outputs": [],
   "source": [
    "import numpy as np\n",
    "import pandas as pd\n",
    "import math\n",
    "import re\n",
    "from nltk.corpus import stopwords\n",
    "import seaborn as sns\n",
    "import unidecode\n",
    "from sklearn.utils import resample\n",
    "import warnings\n",
    "from sklearn.model_selection import train_test_split\n",
    "from sklearn.metrics import plot_confusion_matrix, f1_score, accuracy_score, precision_score, recall_score\n",
    "from sklearn.compose import ColumnTransformer\n",
    "from sklearn.feature_extraction.text import TfidfVectorizer, CountVectorizer\n",
    "from sklearn.naive_bayes import BernoulliNB\n",
    "from sklearn.multiclass import OneVsRestClassifier\n",
    "from sklearn.pipeline import Pipeline\n",
    "from sklearn.model_selection import cross_val_score\n",
    "from sklearn.model_selection import ShuffleSplit\n",
    "import matplotlib.pyplot as plt\n",
    "import seaborn as sns \n",
    "warnings.filterwarnings('ignore')"
   ]
  },
  {
   "cell_type": "code",
   "execution_count": 5,
   "id": "4226012a",
   "metadata": {},
   "outputs": [],
   "source": [
    "df_bucket = pd.read_csv('bucket_model_result.csv')\n",
    "df_bucket_comm = pd.read_csv('bucket_committee_model_result.csv')\n",
    "df_sentiment = pd.read_csv('sent_model_result.csv')\n",
    "df_sentiment_comm = pd.read_csv('sentiment_committee_model_result.csv')"
   ]
  },
  {
   "cell_type": "markdown",
   "id": "9232b8bb",
   "metadata": {},
   "source": [
    "### Active Learning Model Comparison"
   ]
  },
  {
   "cell_type": "markdown",
   "id": "b17f3294",
   "metadata": {},
   "source": [
    "Variables we could explore\n",
    "1. Model Name\n",
    "2. Training method\n",
    "3. if the training size is balanced\n",
    "4. sampling size\n",
    "5. sort by time\n",
    "6. partition ratio"
   ]
  },
  {
   "cell_type": "code",
   "execution_count": 8,
   "id": "7c516a6b",
   "metadata": {},
   "outputs": [
    {
     "data": {
      "text/html": [
       "<div>\n",
       "<style scoped>\n",
       "    .dataframe tbody tr th:only-of-type {\n",
       "        vertical-align: middle;\n",
       "    }\n",
       "\n",
       "    .dataframe tbody tr th {\n",
       "        vertical-align: top;\n",
       "    }\n",
       "\n",
       "    .dataframe thead th {\n",
       "        text-align: right;\n",
       "    }\n",
       "</style>\n",
       "<table border=\"1\" class=\"dataframe\">\n",
       "  <thead>\n",
       "    <tr style=\"text-align: right;\">\n",
       "      <th></th>\n",
       "      <th>Unnamed: 0</th>\n",
       "      <th>model_name</th>\n",
       "      <th>training_method</th>\n",
       "      <th>balance</th>\n",
       "      <th>sampling_size</th>\n",
       "      <th>sort_by_time</th>\n",
       "      <th>partition_ratio</th>\n",
       "      <th>seed_size</th>\n",
       "      <th>unlabeled_size</th>\n",
       "      <th>test_size</th>\n",
       "      <th>val_score</th>\n",
       "      <th>accuracy</th>\n",
       "      <th>f1_score</th>\n",
       "      <th>precision</th>\n",
       "      <th>recall</th>\n",
       "      <th>specificity</th>\n",
       "    </tr>\n",
       "  </thead>\n",
       "  <tbody>\n",
       "    <tr>\n",
       "      <th>0</th>\n",
       "      <td>1</td>\n",
       "      <td>Bernoulli Naive Bayes</td>\n",
       "      <td>random_sampling</td>\n",
       "      <td>True</td>\n",
       "      <td>0</td>\n",
       "      <td>True</td>\n",
       "      <td>[0.5, 0.25, 0.25]</td>\n",
       "      <td>2062</td>\n",
       "      <td>1030</td>\n",
       "      <td>1032</td>\n",
       "      <td>0.753</td>\n",
       "      <td>0.734</td>\n",
       "      <td>0.760</td>\n",
       "      <td>0.693</td>\n",
       "      <td>0.843</td>\n",
       "      <td>0.626</td>\n",
       "    </tr>\n",
       "    <tr>\n",
       "      <th>1</th>\n",
       "      <td>2</td>\n",
       "      <td>Bernoulli Naive Bayes</td>\n",
       "      <td>random_sampling</td>\n",
       "      <td>True</td>\n",
       "      <td>0</td>\n",
       "      <td>True</td>\n",
       "      <td>[0.6, 0.2, 0.2]</td>\n",
       "      <td>2474</td>\n",
       "      <td>824</td>\n",
       "      <td>826</td>\n",
       "      <td>0.768</td>\n",
       "      <td>0.718</td>\n",
       "      <td>0.757</td>\n",
       "      <td>0.665</td>\n",
       "      <td>0.877</td>\n",
       "      <td>0.559</td>\n",
       "    </tr>\n",
       "    <tr>\n",
       "      <th>2</th>\n",
       "      <td>3</td>\n",
       "      <td>Bernoulli Naive Bayes</td>\n",
       "      <td>random_sampling</td>\n",
       "      <td>True</td>\n",
       "      <td>0</td>\n",
       "      <td>True</td>\n",
       "      <td>[0.8, 0.1, 0.1]</td>\n",
       "      <td>3298</td>\n",
       "      <td>412</td>\n",
       "      <td>414</td>\n",
       "      <td>0.721</td>\n",
       "      <td>0.754</td>\n",
       "      <td>0.780</td>\n",
       "      <td>0.704</td>\n",
       "      <td>0.874</td>\n",
       "      <td>0.633</td>\n",
       "    </tr>\n",
       "    <tr>\n",
       "      <th>3</th>\n",
       "      <td>4</td>\n",
       "      <td>Bernoulli Naive Bayes</td>\n",
       "      <td>random_sampling</td>\n",
       "      <td>True</td>\n",
       "      <td>0</td>\n",
       "      <td>False</td>\n",
       "      <td>[0.5, 0.25, 0.25]</td>\n",
       "      <td>2062</td>\n",
       "      <td>1030</td>\n",
       "      <td>1032</td>\n",
       "      <td>0.756</td>\n",
       "      <td>0.805</td>\n",
       "      <td>0.804</td>\n",
       "      <td>0.811</td>\n",
       "      <td>0.797</td>\n",
       "      <td>0.814</td>\n",
       "    </tr>\n",
       "    <tr>\n",
       "      <th>4</th>\n",
       "      <td>5</td>\n",
       "      <td>Bernoulli Naive Bayes</td>\n",
       "      <td>random_sampling</td>\n",
       "      <td>True</td>\n",
       "      <td>0</td>\n",
       "      <td>False</td>\n",
       "      <td>[0.6, 0.2, 0.2]</td>\n",
       "      <td>2474</td>\n",
       "      <td>824</td>\n",
       "      <td>826</td>\n",
       "      <td>0.725</td>\n",
       "      <td>0.805</td>\n",
       "      <td>0.801</td>\n",
       "      <td>0.818</td>\n",
       "      <td>0.785</td>\n",
       "      <td>0.826</td>\n",
       "    </tr>\n",
       "  </tbody>\n",
       "</table>\n",
       "</div>"
      ],
      "text/plain": [
       "   Unnamed: 0             model_name  training_method  balance  sampling_size  \\\n",
       "0           1  Bernoulli Naive Bayes  random_sampling     True              0   \n",
       "1           2  Bernoulli Naive Bayes  random_sampling     True              0   \n",
       "2           3  Bernoulli Naive Bayes  random_sampling     True              0   \n",
       "3           4  Bernoulli Naive Bayes  random_sampling     True              0   \n",
       "4           5  Bernoulli Naive Bayes  random_sampling     True              0   \n",
       "\n",
       "   sort_by_time    partition_ratio  seed_size  unlabeled_size  test_size  \\\n",
       "0          True  [0.5, 0.25, 0.25]       2062            1030       1032   \n",
       "1          True    [0.6, 0.2, 0.2]       2474             824        826   \n",
       "2          True    [0.8, 0.1, 0.1]       3298             412        414   \n",
       "3         False  [0.5, 0.25, 0.25]       2062            1030       1032   \n",
       "4         False    [0.6, 0.2, 0.2]       2474             824        826   \n",
       "\n",
       "   val_score  accuracy  f1_score  precision  recall  specificity  \n",
       "0      0.753     0.734     0.760      0.693   0.843        0.626  \n",
       "1      0.768     0.718     0.757      0.665   0.877        0.559  \n",
       "2      0.721     0.754     0.780      0.704   0.874        0.633  \n",
       "3      0.756     0.805     0.804      0.811   0.797        0.814  \n",
       "4      0.725     0.805     0.801      0.818   0.785        0.826  "
      ]
     },
     "execution_count": 8,
     "metadata": {},
     "output_type": "execute_result"
    }
   ],
   "source": [
    "df_bucket.head()"
   ]
  },
  {
   "cell_type": "code",
   "execution_count": 9,
   "id": "61900939",
   "metadata": {},
   "outputs": [],
   "source": [
    "model_stats = ['val_score', 'accuracy', 'f1_score', 'precision', 'recall', 'specificity']"
   ]
  },
  {
   "cell_type": "code",
   "execution_count": null,
   "id": "38eff2e1",
   "metadata": {},
   "outputs": [],
   "source": [
    "df_bucket.groupby('')"
   ]
  },
  {
   "cell_type": "code",
   "execution_count": null,
   "id": "9c95192d",
   "metadata": {},
   "outputs": [],
   "source": []
  },
  {
   "cell_type": "code",
   "execution_count": null,
   "id": "27fb3437",
   "metadata": {},
   "outputs": [],
   "source": []
  },
  {
   "cell_type": "code",
   "execution_count": 18,
   "id": "bec7cd0f",
   "metadata": {},
   "outputs": [],
   "source": [
    "x = np.array(model_spec_lst)[:, 0]\n",
    "y = np.array(model_spec_lst)[:, 1]\n",
    "z = np.array(model_result_lst)\n",
    "d = np.dstack([x,y,z])[0]\n",
    "model_df = pd.DataFrame(d, columns=['instances', 'iteration', 'model_score'])"
   ]
  },
  {
   "cell_type": "code",
   "execution_count": 20,
   "id": "2f01d4a5",
   "metadata": {},
   "outputs": [
    {
     "data": {
      "text/html": [
       "<div>\n",
       "<style scoped>\n",
       "    .dataframe tbody tr th:only-of-type {\n",
       "        vertical-align: middle;\n",
       "    }\n",
       "\n",
       "    .dataframe tbody tr th {\n",
       "        vertical-align: top;\n",
       "    }\n",
       "\n",
       "    .dataframe thead th {\n",
       "        text-align: right;\n",
       "    }\n",
       "</style>\n",
       "<table border=\"1\" class=\"dataframe\">\n",
       "  <thead>\n",
       "    <tr style=\"text-align: right;\">\n",
       "      <th></th>\n",
       "      <th>instances</th>\n",
       "      <th>iteration</th>\n",
       "      <th>model_score</th>\n",
       "    </tr>\n",
       "  </thead>\n",
       "  <tbody>\n",
       "    <tr>\n",
       "      <th>0</th>\n",
       "      <td>2.0</td>\n",
       "      <td>1.0</td>\n",
       "      <td>0.786</td>\n",
       "    </tr>\n",
       "    <tr>\n",
       "      <th>1</th>\n",
       "      <td>2.0</td>\n",
       "      <td>2.0</td>\n",
       "      <td>0.800</td>\n",
       "    </tr>\n",
       "    <tr>\n",
       "      <th>2</th>\n",
       "      <td>2.0</td>\n",
       "      <td>3.0</td>\n",
       "      <td>0.803</td>\n",
       "    </tr>\n",
       "    <tr>\n",
       "      <th>3</th>\n",
       "      <td>2.0</td>\n",
       "      <td>4.0</td>\n",
       "      <td>0.799</td>\n",
       "    </tr>\n",
       "    <tr>\n",
       "      <th>4</th>\n",
       "      <td>2.0</td>\n",
       "      <td>5.0</td>\n",
       "      <td>0.794</td>\n",
       "    </tr>\n",
       "  </tbody>\n",
       "</table>\n",
       "</div>"
      ],
      "text/plain": [
       "   instances  iteration  model_score\n",
       "0        2.0        1.0        0.786\n",
       "1        2.0        2.0        0.800\n",
       "2        2.0        3.0        0.803\n",
       "3        2.0        4.0        0.799\n",
       "4        2.0        5.0        0.794"
      ]
     },
     "execution_count": 20,
     "metadata": {},
     "output_type": "execute_result"
    }
   ],
   "source": [
    "model_df.head()"
   ]
  },
  {
   "cell_type": "code",
   "execution_count": 21,
   "id": "fb0fbe79",
   "metadata": {},
   "outputs": [
    {
     "data": {
      "text/plain": [
       "<AxesSubplot:>"
      ]
     },
     "execution_count": 21,
     "metadata": {},
     "output_type": "execute_result"
    },
    {
     "data": {
      "image/png": "[encoded data removed]",
      "text/plain": [
       "<Figure size 864x504 with 2 Axes>"
      ]
     },
     "metadata": {
      "needs_background": "light"
     },
     "output_type": "display_data"
    }
   ],
   "source": [
    "ins_set = set(model_df['instances'])\n",
    "iter_set = set(model_df['iteration'])\n",
    "score = np.array(model_df['model_score']).reshape([len(instances_lst), len(iteration_lst)])\n",
    "idx_raw = list(ins_set)\n",
    "idx_raw.sort()\n",
    "idx = idx_raw\n",
    "# Defining columns for the dataframe\n",
    "cols = list(iter_set)\n",
    "df = pd.DataFrame(score, columns = cols, index = idx)\n",
    "# Defining figure size for the output plot \n",
    "fig, ax = plt.subplots(figsize = (12, 7))\n",
    "# Displaying dataframe as an heatmap \n",
    "# with diverging colourmap as RdYlGn\n",
    "sns.heatmap(df, cmap ='RdYlGn', linewidths = 0.30, annot = True)"
   ]
  },
  {
   "cell_type": "code",
   "execution_count": null,
   "id": "4594478b",
   "metadata": {},
   "outputs": [],
   "source": []
  }
 ],
 "metadata": {
  "kernelspec": {
   "display_name": "Python 3",
   "language": "python",
   "name": "python3"
  },
  "language_info": {
   "codemirror_mode": {
    "name": "ipython",
    "version": 3
   },
   "file_extension": ".py",
   "mimetype": "text/x-python",
   "name": "python",
   "nbconvert_exporter": "python",
   "pygments_lexer": "ipython3",
   "version": "3.8.8"
  }
 },
 "nbformat": 4,
 "nbformat_minor": 5
}
